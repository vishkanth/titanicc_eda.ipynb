{
 "cells": [
  {
   "cell_type": "markdown",
   "id": "12d34819",
   "metadata": {},
   "source": [
    "# Titanic Dataset - Exploratory Data Analysis (EDA)\n",
    "This notebook performs Exploratory Data Analysis on the Titanic dataset using **Pandas**, **Matplotlib**, **Seaborn**, and **Plotly**."
   ]
  },
  {
   "cell_type": "code",
   "execution_count": null,
   "id": "c0e91c14",
   "metadata": {},
   "outputs": [],
   "source": [
    "\n",
    "import pandas as pd\n",
    "import numpy as np\n",
    "import matplotlib.pyplot as plt\n",
    "import seaborn as sns\n",
    "import plotly.express as px\n",
    "sns.set(style=\"whitegrid\")\n"
   ]
  },
  {
   "cell_type": "code",
   "execution_count": null,
   "id": "a7d40c0e",
   "metadata": {},
   "outputs": [],
   "source": [
    "\n",
    "\n",
    "df = pd.read_csv(\"Titanic-Dataset.csv\")\n",
    "df.head()\n"
   ]
  },
  {
   "cell_type": "code",
   "execution_count": null,
   "id": "aa22e1c5",
   "metadata": {},
   "outputs": [],
   "source": [
    "\n",
    "df.info()\n",
    "df.shape\n"
   ]
  },
  {
   "cell_type": "code",
   "execution_count": null,
   "id": "2fe38aa0",
   "metadata": {},
   "outputs": [],
   "source": [
    "\n",
    "\n",
    "df.describe().T\n",
    "df.describe(include=\"object\")\n"
   ]
  },
  {
   "cell_type": "code",
   "execution_count": null,
   "id": "d91d7436",
   "metadata": {},
   "outputs": [],
   "source": [
    "\n",
    "df.isnull().sum()\n",
    "plt.figure(figsize=(8,5))\n",
    "sns.heatmap(df.isnull(), cbar=False, cmap='viridis')\n",
    "plt.title(\"Missing Values Heatmap\")\n",
    "plt.show()\n"
   ]
  },
  {
   "cell_type": "code",
   "execution_count": null,
   "id": "bb1a3012",
   "metadata": {},
   "outputs": [],
   "source": [
    "\n",
    "numeric_cols = df.select_dtypes(include=['int64','float64']).columns\n",
    "\n",
    "df[numeric_cols].hist(figsize=(12,8), bins=20, edgecolor='black')\n",
    "plt.tight_layout()\n",
    "plt.show()\n"
   ]
  },
  {
   "cell_type": "code",
   "execution_count": null,
   "id": "760dd75a",
   "metadata": {},
   "outputs": [],
   "source": [
    "\n",
    "for col in numeric_cols:\n",
    "    plt.figure(figsize=(6,3))\n",
    "    sns.boxplot(x=df[col])\n",
    "    plt.title(f\"Boxplot of {col}\")\n",
    "    plt.show()\n"
   ]
  },
  {
   "cell_type": "code",
   "execution_count": null,
   "id": "c8b6acba",
   "metadata": {},
   "outputs": [],
   "source": [
    "\n",
    "plt.figure(figsize=(8,6))\n",
    "sns.heatmap(df.corr(), annot=True, cmap=\"coolwarm\", linewidths=0.5)\n",
    "plt.title(\"Correlation Heatmap\")\n",
    "plt.show()\n"
   ]
  },
  {
   "cell_type": "code",
   "execution_count": null,
   "id": "f38fe984",
   "metadata": {},
   "outputs": [],
   "source": [
    "\n",
    "sns.pairplot(df.dropna(), hue=\"Survived\")\n",
    "plt.show()\n"
   ]
  },
  {
   "cell_type": "code",
   "execution_count": null,
   "id": "38acaa1d",
   "metadata": {},
   "outputs": [],
   "source": [
    "\n",
    "fig = px.histogram(df, x=\"Age\", color=\"Survived\", nbins=20, title=\"Age Distribution by Survival\")\n",
    "fig.show()\n",
    "fig2 = px.scatter(df, x=\"Fare\", y=\"Age\", color=\"Survived\", size=\"Fare\", hover_data=[\"Sex\", \"Pclass\"])\n",
    "fig2.show()\n"
   ]
  },
  {
   "cell_type": "code",
   "execution_count": null,
   "id": "ccf44d59",
   "metadata": {},
   "outputs": [],
   "source": [
    "\n",
    "sns.barplot(x=\"Sex\", y=\"Survived\", data=df)\n",
    "plt.title(\"Survival Rate by Gender\")\n",
    "plt.show()\n",
    "sns.barplot(x=\"Pclass\", y=\"Survived\", data=df)\n",
    "plt.title(\"Survival Rate by Passenger Class\")\n",
    "plt.show()\n"
   ]
  }
 ],
 "metadata": {
  "language_info": {
   "name": "python"
  }
 },
 "nbformat": 4,
 "nbformat_minor": 5
}
